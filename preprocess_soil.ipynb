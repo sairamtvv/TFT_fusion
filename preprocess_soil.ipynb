{
 "cells": [
  {
   "cell_type": "code",
   "execution_count": null,
   "outputs": [],
   "source": [],
   "metadata": {
    "collapsed": false
   }
  },
  {
   "cell_type": "code",
   "execution_count": 1,
   "metadata": {
    "collapsed": true,
    "ExecuteTime": {
     "end_time": "2023-07-08T18:38:32.273334042Z",
     "start_time": "2023-07-08T18:38:29.348110248Z"
    }
   },
   "outputs": [
    {
     "name": "stderr",
     "output_type": "stream",
     "text": [
      "2023-07-09 00:08:31.272093: I tensorflow/core/platform/cpu_feature_guard.cc:193] This TensorFlow binary is optimized with oneAPI Deep Neural Network Library (oneDNN) to use the following CPU instructions in performance-critical operations:  AVX2 AVX512F AVX512_VNNI FMA\n",
      "To enable them in other operations, rebuild TensorFlow with the appropriate compiler flags.\n",
      "2023-07-09 00:08:31.395621: I tensorflow/core/util/util.cc:169] oneDNN custom operations are on. You may see slightly different numerical results due to floating-point round-off errors from different computation orders. To turn them off, set the environment variable `TF_ENABLE_ONEDNN_OPTS=0`.\n",
      "2023-07-09 00:08:31.418021: E tensorflow/stream_executor/cuda/cuda_blas.cc:2981] Unable to register cuBLAS factory: Attempting to register factory for plugin cuBLAS when one has already been registered\n",
      "2023-07-09 00:08:31.769478: W tensorflow/stream_executor/platform/default/dso_loader.cc:64] Could not load dynamic library 'libnvinfer.so.7'; dlerror: libnvinfer.so.7: cannot open shared object file: No such file or directory; LD_LIBRARY_PATH: :\n",
      "2023-07-09 00:08:31.769545: W tensorflow/stream_executor/platform/default/dso_loader.cc:64] Could not load dynamic library 'libnvinfer_plugin.so.7'; dlerror: libnvinfer_plugin.so.7: cannot open shared object file: No such file or directory; LD_LIBRARY_PATH: :\n",
      "2023-07-09 00:08:31.769550: W tensorflow/compiler/tf2tensorrt/utils/py_utils.cc:38] TF-TRT Warning: Cannot dlopen some TensorRT libraries. If you would like to use Nvidia GPU with TensorRT, please make sure the missing libraries mentioned above are installed properly.\n"
     ]
    }
   ],
   "source": [
    "from main import  SoilingLossForecast\n",
    "from configs.config import TrainTestPipelineConfig, LoggerConfig\n",
    "from configs import log\n",
    "import logging"
   ]
  },
  {
   "cell_type": "code",
   "execution_count": 2,
   "outputs": [],
   "source": [
    "import numpy as np\n",
    "import pandas as pd\n"
   ],
   "metadata": {
    "collapsed": false,
    "ExecuteTime": {
     "end_time": "2023-07-08T18:38:37.131595080Z",
     "start_time": "2023-07-08T18:38:37.128768558Z"
    }
   }
  },
  {
   "cell_type": "code",
   "execution_count": 3,
   "outputs": [
    {
     "name": "stdout",
     "output_type": "stream",
     "text": [
      "2023-07-09 00:08:38 configs.config                                - DEBUG    — _get_config:62 - Loading 'TrainTestPipelineConfig' config from '/home/sai/Pictures/TFT_fusion/pipeline_config_TFT.yaml'\n"
     ]
    },
    {
     "name": "stderr",
     "output_type": "stream",
     "text": [
      "/home/sai/Pictures/TFT_fusion/datapreprocessor/dataloader.py:54: DtypeWarning: Columns (1,4,5) have mixed types. Specify dtype option on import or set low_memory=False.\n",
      "  df = pd.read_csv(file_path, header=1)\n",
      "/home/sai/Pictures/TFT_fusion/datapreprocessor/dataloader.py:54: DtypeWarning: Columns (1,4,5) have mixed types. Specify dtype option on import or set low_memory=False.\n",
      "  df = pd.read_csv(file_path, header=1)\n",
      "/home/sai/Pictures/TFT_fusion/datapreprocessor/dataloader.py:140: UserWarning: Parsing dates in %d-%m-%Y %H:%M format when dayfirst=False (the default) was specified. Pass `dayfirst=True` or specify a format to silence this warning.\n",
      "  df['TIMESTAMP'] = pd.to_datetime(df['TIMESTAMP'])\n",
      "/home/sai/Pictures/TFT_fusion/datapreprocessor/dataloader.py:140: UserWarning: Parsing dates in %d-%m-%Y %H:%M format when dayfirst=False (the default) was specified. Pass `dayfirst=True` or specify a format to silence this warning.\n",
      "  df['TIMESTAMP'] = pd.to_datetime(df['TIMESTAMP'])\n"
     ]
    }
   ],
   "source": [
    "config_list = [\"./pipeline_config_TFT.yaml\"]\n",
    "logger_config_list = [\"./pipeline_config_TFT.yaml\"]\n",
    "logger_config = LoggerConfig(logger_config_list)\n",
    "log.setup_logging(logger_config)\n",
    "logger = logging.getLogger(__name__)\n",
    "pipeline_config = TrainTestPipelineConfig(config_list)\n",
    "forecast_obj = SoilingLossForecast(pipeline_config)\n",
    "forecast_obj.read_data()"
   ],
   "metadata": {
    "collapsed": false,
    "ExecuteTime": {
     "end_time": "2023-07-08T18:39:27.835416169Z",
     "start_time": "2023-07-08T18:38:38.660166440Z"
    }
   }
  },
  {
   "cell_type": "code",
   "execution_count": 31,
   "outputs": [],
   "source": [
    "data = forecast_obj.data.copy()"
   ],
   "metadata": {
    "collapsed": false,
    "ExecuteTime": {
     "end_time": "2023-07-08T19:03:39.819611041Z",
     "start_time": "2023-07-08T19:03:39.659451719Z"
    }
   }
  },
  {
   "cell_type": "code",
   "execution_count": 32,
   "outputs": [
    {
     "data": {
      "text/plain": "3143572"
     },
     "execution_count": 32,
     "metadata": {},
     "output_type": "execute_result"
    }
   ],
   "source": [
    "len(data)"
   ],
   "metadata": {
    "collapsed": false,
    "ExecuteTime": {
     "end_time": "2023-07-08T19:03:45.403326158Z",
     "start_time": "2023-07-08T19:03:45.399899016Z"
    }
   }
  },
  {
   "cell_type": "code",
   "execution_count": 33,
   "outputs": [
    {
     "data": {
      "text/plain": "TIMESTAMP      4\nRECORD         4\nGeffRef        4\nGeffTest       4\nIscRef        69\nIscTest       69\nTempRef        4\nTempTest       4\nyear_month     0\nlocation       0\ndtype: int64"
     },
     "execution_count": 33,
     "metadata": {},
     "output_type": "execute_result"
    }
   ],
   "source": [
    "data.isnull().sum()"
   ],
   "metadata": {
    "collapsed": false,
    "ExecuteTime": {
     "end_time": "2023-07-08T19:04:34.276401716Z",
     "start_time": "2023-07-08T19:04:33.699334774Z"
    }
   }
  },
  {
   "cell_type": "code",
   "execution_count": 35,
   "outputs": [],
   "source": [
    "data.dropna( how=\"any\", inplace=True)"
   ],
   "metadata": {
    "collapsed": false,
    "ExecuteTime": {
     "end_time": "2023-07-08T19:06:18.450862895Z",
     "start_time": "2023-07-08T19:06:17.616381118Z"
    }
   }
  },
  {
   "cell_type": "code",
   "execution_count": 36,
   "outputs": [
    {
     "data": {
      "text/plain": "TIMESTAMP     0\nRECORD        0\nGeffRef       0\nGeffTest      0\nIscRef        0\nIscTest       0\nTempRef       0\nTempTest      0\nyear_month    0\nlocation      0\ndtype: int64"
     },
     "execution_count": 36,
     "metadata": {},
     "output_type": "execute_result"
    }
   ],
   "source": [
    "data.isnull().sum()"
   ],
   "metadata": {
    "collapsed": false,
    "ExecuteTime": {
     "end_time": "2023-07-08T19:06:30.718192596Z",
     "start_time": "2023-07-08T19:06:30.191092653Z"
    }
   }
  },
  {
   "cell_type": "code",
   "execution_count": 42,
   "outputs": [],
   "source": [
    "karnal = data.loc[data[\"location\"]==\"P-1_Karnal\"]"
   ],
   "metadata": {
    "collapsed": false,
    "ExecuteTime": {
     "end_time": "2023-07-08T19:09:37.654854395Z",
     "start_time": "2023-07-08T19:09:37.592775577Z"
    }
   }
  },
  {
   "cell_type": "code",
   "execution_count": 43,
   "outputs": [
    {
     "data": {
      "text/plain": "                  TIMESTAMP  RECORD      GeffRef      GeffTest         IscRef   \n2112986 2022-07-30 00:01:00  167862    0.0108511    0.02538246   8.043885E-05  \\\n2112987 2022-07-30 00:01:30  167863   0.01083818  -0.009661586   8.043885E-05   \n2112988 2022-07-30 00:02:00  167864  -0.01083198  -0.009665909  -8.043885E-05   \n2112989 2022-07-30 00:02:30  167865   -0.0289536    0.01086917  -0.0002145036   \n2112990 2022-07-30 00:03:00  167866   0.01204698    0.01448372    8.93765E-05   \n...                     ...     ...          ...           ...            ...   \n3143567 2022-12-07 17:57:30  544415    0.3669072     0.4718435    0.002654482   \n3143568 2022-12-07 17:58:00  544416    0.3335149     0.3961517    0.002422103   \n3143569 2022-12-07 17:58:30  544417    0.3100407     0.3367991     0.00224335   \n3143570 2022-12-07 17:59:00  544418     0.249164     0.2922041    0.001805405   \n3143571 2022-12-07 17:59:30  544419    0.1978264     0.2488029    0.001430024   \n\n              IscTest TempRef TempTest year_month    location  \n2112986  0.0001876906   24.84    24.43      Aug22  P-1_Karnal  \n2112987  -7.15012E-05   25.04    24.56      Aug22  P-1_Karnal  \n2112988  -7.15012E-05   25.14    24.49      Aug22  P-1_Karnal  \n2112989  8.043885E-05   24.74    24.56      Aug22  P-1_Karnal  \n2112990  0.0001072518   24.98    24.66      Aug22  P-1_Karnal  \n...               ...     ...      ...        ...         ...  \n3143567   0.003396307   20.73    19.86      Dec22  P-1_Karnal  \n3143568   0.002860048   21.38    20.37      Dec22  P-1_Karnal  \n3143569   0.002431041   20.75    20.34      Dec22  P-1_Karnal  \n3143570   0.002118223   20.99    21.07      Dec22  P-1_Karnal  \n3143571   0.001796468   20.59    20.39      Dec22  P-1_Karnal  \n\n[1030519 rows x 10 columns]",
      "text/html": "<div>\n<style scoped>\n    .dataframe tbody tr th:only-of-type {\n        vertical-align: middle;\n    }\n\n    .dataframe tbody tr th {\n        vertical-align: top;\n    }\n\n    .dataframe thead th {\n        text-align: right;\n    }\n</style>\n<table border=\"1\" class=\"dataframe\">\n  <thead>\n    <tr style=\"text-align: right;\">\n      <th></th>\n      <th>TIMESTAMP</th>\n      <th>RECORD</th>\n      <th>GeffRef</th>\n      <th>GeffTest</th>\n      <th>IscRef</th>\n      <th>IscTest</th>\n      <th>TempRef</th>\n      <th>TempTest</th>\n      <th>year_month</th>\n      <th>location</th>\n    </tr>\n  </thead>\n  <tbody>\n    <tr>\n      <th>2112986</th>\n      <td>2022-07-30 00:01:00</td>\n      <td>167862</td>\n      <td>0.0108511</td>\n      <td>0.02538246</td>\n      <td>8.043885E-05</td>\n      <td>0.0001876906</td>\n      <td>24.84</td>\n      <td>24.43</td>\n      <td>Aug22</td>\n      <td>P-1_Karnal</td>\n    </tr>\n    <tr>\n      <th>2112987</th>\n      <td>2022-07-30 00:01:30</td>\n      <td>167863</td>\n      <td>0.01083818</td>\n      <td>-0.009661586</td>\n      <td>8.043885E-05</td>\n      <td>-7.15012E-05</td>\n      <td>25.04</td>\n      <td>24.56</td>\n      <td>Aug22</td>\n      <td>P-1_Karnal</td>\n    </tr>\n    <tr>\n      <th>2112988</th>\n      <td>2022-07-30 00:02:00</td>\n      <td>167864</td>\n      <td>-0.01083198</td>\n      <td>-0.009665909</td>\n      <td>-8.043885E-05</td>\n      <td>-7.15012E-05</td>\n      <td>25.14</td>\n      <td>24.49</td>\n      <td>Aug22</td>\n      <td>P-1_Karnal</td>\n    </tr>\n    <tr>\n      <th>2112989</th>\n      <td>2022-07-30 00:02:30</td>\n      <td>167865</td>\n      <td>-0.0289536</td>\n      <td>0.01086917</td>\n      <td>-0.0002145036</td>\n      <td>8.043885E-05</td>\n      <td>24.74</td>\n      <td>24.56</td>\n      <td>Aug22</td>\n      <td>P-1_Karnal</td>\n    </tr>\n    <tr>\n      <th>2112990</th>\n      <td>2022-07-30 00:03:00</td>\n      <td>167866</td>\n      <td>0.01204698</td>\n      <td>0.01448372</td>\n      <td>8.93765E-05</td>\n      <td>0.0001072518</td>\n      <td>24.98</td>\n      <td>24.66</td>\n      <td>Aug22</td>\n      <td>P-1_Karnal</td>\n    </tr>\n    <tr>\n      <th>...</th>\n      <td>...</td>\n      <td>...</td>\n      <td>...</td>\n      <td>...</td>\n      <td>...</td>\n      <td>...</td>\n      <td>...</td>\n      <td>...</td>\n      <td>...</td>\n      <td>...</td>\n    </tr>\n    <tr>\n      <th>3143567</th>\n      <td>2022-12-07 17:57:30</td>\n      <td>544415</td>\n      <td>0.3669072</td>\n      <td>0.4718435</td>\n      <td>0.002654482</td>\n      <td>0.003396307</td>\n      <td>20.73</td>\n      <td>19.86</td>\n      <td>Dec22</td>\n      <td>P-1_Karnal</td>\n    </tr>\n    <tr>\n      <th>3143568</th>\n      <td>2022-12-07 17:58:00</td>\n      <td>544416</td>\n      <td>0.3335149</td>\n      <td>0.3961517</td>\n      <td>0.002422103</td>\n      <td>0.002860048</td>\n      <td>21.38</td>\n      <td>20.37</td>\n      <td>Dec22</td>\n      <td>P-1_Karnal</td>\n    </tr>\n    <tr>\n      <th>3143569</th>\n      <td>2022-12-07 17:58:30</td>\n      <td>544417</td>\n      <td>0.3100407</td>\n      <td>0.3367991</td>\n      <td>0.00224335</td>\n      <td>0.002431041</td>\n      <td>20.75</td>\n      <td>20.34</td>\n      <td>Dec22</td>\n      <td>P-1_Karnal</td>\n    </tr>\n    <tr>\n      <th>3143570</th>\n      <td>2022-12-07 17:59:00</td>\n      <td>544418</td>\n      <td>0.249164</td>\n      <td>0.2922041</td>\n      <td>0.001805405</td>\n      <td>0.002118223</td>\n      <td>20.99</td>\n      <td>21.07</td>\n      <td>Dec22</td>\n      <td>P-1_Karnal</td>\n    </tr>\n    <tr>\n      <th>3143571</th>\n      <td>2022-12-07 17:59:30</td>\n      <td>544419</td>\n      <td>0.1978264</td>\n      <td>0.2488029</td>\n      <td>0.001430024</td>\n      <td>0.001796468</td>\n      <td>20.59</td>\n      <td>20.39</td>\n      <td>Dec22</td>\n      <td>P-1_Karnal</td>\n    </tr>\n  </tbody>\n</table>\n<p>1030519 rows × 10 columns</p>\n</div>"
     },
     "execution_count": 43,
     "metadata": {},
     "output_type": "execute_result"
    }
   ],
   "source": [
    "karnal"
   ],
   "metadata": {
    "collapsed": false,
    "ExecuteTime": {
     "end_time": "2023-07-08T19:09:45.398167144Z",
     "start_time": "2023-07-08T19:09:45.394915230Z"
    }
   }
  },
  {
   "cell_type": "code",
   "execution_count": 45,
   "outputs": [],
   "source": [
    "karnal_30s = karnal.asfreq(\"30S\")"
   ],
   "metadata": {
    "collapsed": false,
    "ExecuteTime": {
     "end_time": "2023-07-08T19:11:38.720489021Z",
     "start_time": "2023-07-08T19:11:38.678817274Z"
    }
   }
  },
  {
   "cell_type": "code",
   "execution_count": null,
   "outputs": [],
   "source": [
    "karnal_30s.resample(\"5M\")"
   ],
   "metadata": {
    "collapsed": false
   }
  },
  {
   "cell_type": "code",
   "execution_count": 11,
   "outputs": [],
   "source": [
    "data.reset_index(inplace=True)"
   ],
   "metadata": {
    "collapsed": false,
    "ExecuteTime": {
     "end_time": "2023-07-08T18:34:28.949968172Z",
     "start_time": "2023-07-08T18:34:28.941695142Z"
    }
   }
  },
  {
   "cell_type": "code",
   "execution_count": 38,
   "outputs": [],
   "source": [
    "stack_data = data.copy()"
   ],
   "metadata": {
    "collapsed": false,
    "ExecuteTime": {
     "end_time": "2023-07-08T19:08:09.243085452Z",
     "start_time": "2023-07-08T19:08:09.007804279Z"
    }
   }
  },
  {
   "cell_type": "code",
   "execution_count": 39,
   "outputs": [],
   "source": [
    " # Convert 'Timestamp' column to datetime\n",
    "stack_data['TIMESTAMP'] = pd.to_datetime(stack_data['TIMESTAMP'])\n",
    "\n",
    "# Set 'Timestamp' column as the index\n",
    "stack_data.set_index(['TIMESTAMP','location'], inplace=True)"
   ],
   "metadata": {
    "collapsed": false,
    "ExecuteTime": {
     "end_time": "2023-07-08T19:08:11.283068070Z",
     "start_time": "2023-07-08T19:08:10.902565600Z"
    }
   }
  },
  {
   "cell_type": "code",
   "execution_count": 40,
   "outputs": [
    {
     "data": {
      "text/plain": "                                RECORD       GeffRef      GeffTest   \nTIMESTAMP           location                                         \n2022-08-07 00:01:00 P-3_Hisar   173916    0.02205942   -0.01227369  \\\n2022-08-07 00:01:30 P-3_Hisar   173917   -0.01101865   -0.02822736   \n2022-08-07 00:02:00 P-3_Hisar   173918     0.0122566   -0.02082119   \n2022-08-07 00:02:30 P-3_Hisar   173919    0.01343591  -0.006136173   \n2022-08-07 00:03:00 P-3_Hisar   173920  -0.007341333  -0.006105782   \n...                                ...           ...           ...   \n2022-12-07 17:57:30 P-1_Karnal  544415     0.3669072     0.4718435   \n2022-12-07 17:58:00 P-1_Karnal  544416     0.3335149     0.3961517   \n2022-12-07 17:58:30 P-1_Karnal  544417     0.3100407     0.3367991   \n2022-12-07 17:59:00 P-1_Karnal  544418      0.249164     0.2922041   \n2022-12-07 17:59:30 P-1_Karnal  544419     0.1978264     0.2488029   \n\n                                       IscRef        IscTest TempRef TempTest   \nTIMESTAMP           location                                                    \n2022-08-07 00:01:00 P-3_Hisar    0.0001609563  -8.942019E-05   22.18    21.92  \\\n2022-08-07 00:01:30 P-3_Hisar   -8.047817E-05  -0.0002056664   22.35    21.94   \n2022-08-07 00:02:00 P-3_Hisar    8.942019E-05  -0.0001520143   22.16    22.28   \n2022-08-07 00:02:30 P-3_Hisar    9.836221E-05   -4.47101E-05   22.74    21.94   \n2022-08-07 00:03:00 P-3_Hisar   -5.365211E-05   -4.47101E-05   22.45    22.78   \n...                                       ...            ...     ...      ...   \n2022-12-07 17:57:30 P-1_Karnal    0.002654482    0.003396307   20.73    19.86   \n2022-12-07 17:58:00 P-1_Karnal    0.002422103    0.002860048   21.38    20.37   \n2022-12-07 17:58:30 P-1_Karnal     0.00224335    0.002431041   20.75    20.34   \n2022-12-07 17:59:00 P-1_Karnal    0.001805405    0.002118223   20.99    21.07   \n2022-12-07 17:59:30 P-1_Karnal    0.001430024    0.001796468   20.59    20.39   \n\n                               year_month  \nTIMESTAMP           location               \n2022-08-07 00:01:00 P-3_Hisar       Aug22  \n2022-08-07 00:01:30 P-3_Hisar       Aug22  \n2022-08-07 00:02:00 P-3_Hisar       Aug22  \n2022-08-07 00:02:30 P-3_Hisar       Aug22  \n2022-08-07 00:03:00 P-3_Hisar       Aug22  \n...                                   ...  \n2022-12-07 17:57:30 P-1_Karnal      Dec22  \n2022-12-07 17:58:00 P-1_Karnal      Dec22  \n2022-12-07 17:58:30 P-1_Karnal      Dec22  \n2022-12-07 17:59:00 P-1_Karnal      Dec22  \n2022-12-07 17:59:30 P-1_Karnal      Dec22  \n\n[3143501 rows x 8 columns]",
      "text/html": "<div>\n<style scoped>\n    .dataframe tbody tr th:only-of-type {\n        vertical-align: middle;\n    }\n\n    .dataframe tbody tr th {\n        vertical-align: top;\n    }\n\n    .dataframe thead th {\n        text-align: right;\n    }\n</style>\n<table border=\"1\" class=\"dataframe\">\n  <thead>\n    <tr style=\"text-align: right;\">\n      <th></th>\n      <th></th>\n      <th>RECORD</th>\n      <th>GeffRef</th>\n      <th>GeffTest</th>\n      <th>IscRef</th>\n      <th>IscTest</th>\n      <th>TempRef</th>\n      <th>TempTest</th>\n      <th>year_month</th>\n    </tr>\n    <tr>\n      <th>TIMESTAMP</th>\n      <th>location</th>\n      <th></th>\n      <th></th>\n      <th></th>\n      <th></th>\n      <th></th>\n      <th></th>\n      <th></th>\n      <th></th>\n    </tr>\n  </thead>\n  <tbody>\n    <tr>\n      <th>2022-08-07 00:01:00</th>\n      <th>P-3_Hisar</th>\n      <td>173916</td>\n      <td>0.02205942</td>\n      <td>-0.01227369</td>\n      <td>0.0001609563</td>\n      <td>-8.942019E-05</td>\n      <td>22.18</td>\n      <td>21.92</td>\n      <td>Aug22</td>\n    </tr>\n    <tr>\n      <th>2022-08-07 00:01:30</th>\n      <th>P-3_Hisar</th>\n      <td>173917</td>\n      <td>-0.01101865</td>\n      <td>-0.02822736</td>\n      <td>-8.047817E-05</td>\n      <td>-0.0002056664</td>\n      <td>22.35</td>\n      <td>21.94</td>\n      <td>Aug22</td>\n    </tr>\n    <tr>\n      <th>2022-08-07 00:02:00</th>\n      <th>P-3_Hisar</th>\n      <td>173918</td>\n      <td>0.0122566</td>\n      <td>-0.02082119</td>\n      <td>8.942019E-05</td>\n      <td>-0.0001520143</td>\n      <td>22.16</td>\n      <td>22.28</td>\n      <td>Aug22</td>\n    </tr>\n    <tr>\n      <th>2022-08-07 00:02:30</th>\n      <th>P-3_Hisar</th>\n      <td>173919</td>\n      <td>0.01343591</td>\n      <td>-0.006136173</td>\n      <td>9.836221E-05</td>\n      <td>-4.47101E-05</td>\n      <td>22.74</td>\n      <td>21.94</td>\n      <td>Aug22</td>\n    </tr>\n    <tr>\n      <th>2022-08-07 00:03:00</th>\n      <th>P-3_Hisar</th>\n      <td>173920</td>\n      <td>-0.007341333</td>\n      <td>-0.006105782</td>\n      <td>-5.365211E-05</td>\n      <td>-4.47101E-05</td>\n      <td>22.45</td>\n      <td>22.78</td>\n      <td>Aug22</td>\n    </tr>\n    <tr>\n      <th>...</th>\n      <th>...</th>\n      <td>...</td>\n      <td>...</td>\n      <td>...</td>\n      <td>...</td>\n      <td>...</td>\n      <td>...</td>\n      <td>...</td>\n      <td>...</td>\n    </tr>\n    <tr>\n      <th>2022-12-07 17:57:30</th>\n      <th>P-1_Karnal</th>\n      <td>544415</td>\n      <td>0.3669072</td>\n      <td>0.4718435</td>\n      <td>0.002654482</td>\n      <td>0.003396307</td>\n      <td>20.73</td>\n      <td>19.86</td>\n      <td>Dec22</td>\n    </tr>\n    <tr>\n      <th>2022-12-07 17:58:00</th>\n      <th>P-1_Karnal</th>\n      <td>544416</td>\n      <td>0.3335149</td>\n      <td>0.3961517</td>\n      <td>0.002422103</td>\n      <td>0.002860048</td>\n      <td>21.38</td>\n      <td>20.37</td>\n      <td>Dec22</td>\n    </tr>\n    <tr>\n      <th>2022-12-07 17:58:30</th>\n      <th>P-1_Karnal</th>\n      <td>544417</td>\n      <td>0.3100407</td>\n      <td>0.3367991</td>\n      <td>0.00224335</td>\n      <td>0.002431041</td>\n      <td>20.75</td>\n      <td>20.34</td>\n      <td>Dec22</td>\n    </tr>\n    <tr>\n      <th>2022-12-07 17:59:00</th>\n      <th>P-1_Karnal</th>\n      <td>544418</td>\n      <td>0.249164</td>\n      <td>0.2922041</td>\n      <td>0.001805405</td>\n      <td>0.002118223</td>\n      <td>20.99</td>\n      <td>21.07</td>\n      <td>Dec22</td>\n    </tr>\n    <tr>\n      <th>2022-12-07 17:59:30</th>\n      <th>P-1_Karnal</th>\n      <td>544419</td>\n      <td>0.1978264</td>\n      <td>0.2488029</td>\n      <td>0.001430024</td>\n      <td>0.001796468</td>\n      <td>20.59</td>\n      <td>20.39</td>\n      <td>Dec22</td>\n    </tr>\n  </tbody>\n</table>\n<p>3143501 rows × 8 columns</p>\n</div>"
     },
     "execution_count": 40,
     "metadata": {},
     "output_type": "execute_result"
    }
   ],
   "source": [
    "stack_data"
   ],
   "metadata": {
    "collapsed": false,
    "ExecuteTime": {
     "end_time": "2023-07-08T19:08:13.074858266Z",
     "start_time": "2023-07-08T19:08:13.069117591Z"
    }
   }
  },
  {
   "cell_type": "code",
   "execution_count": 41,
   "outputs": [
    {
     "ename": "ValueError",
     "evalue": "Index contains duplicate entries, cannot reshape",
     "output_type": "error",
     "traceback": [
      "\u001B[0;31m---------------------------------------------------------------------------\u001B[0m",
      "\u001B[0;31mValueError\u001B[0m                                Traceback (most recent call last)",
      "Cell \u001B[0;32mIn [41], line 1\u001B[0m\n\u001B[0;32m----> 1\u001B[0m \u001B[43mstack_data\u001B[49m\u001B[38;5;241;43m.\u001B[39;49m\u001B[43munstack\u001B[49m\u001B[43m(\u001B[49m\u001B[43m)\u001B[49m\n",
      "File \u001B[0;32m~/anaconda3/envs/tft_dfc_env/lib/python3.8/site-packages/pandas/core/frame.py:8966\u001B[0m, in \u001B[0;36mDataFrame.unstack\u001B[0;34m(self, level, fill_value)\u001B[0m\n\u001B[1;32m   8904\u001B[0m \u001B[38;5;124;03m\"\"\"\u001B[39;00m\n\u001B[1;32m   8905\u001B[0m \u001B[38;5;124;03mPivot a level of the (necessarily hierarchical) index labels.\u001B[39;00m\n\u001B[1;32m   8906\u001B[0m \n\u001B[0;32m   (...)\u001B[0m\n\u001B[1;32m   8962\u001B[0m \u001B[38;5;124;03mdtype: float64\u001B[39;00m\n\u001B[1;32m   8963\u001B[0m \u001B[38;5;124;03m\"\"\"\u001B[39;00m\n\u001B[1;32m   8964\u001B[0m \u001B[38;5;28;01mfrom\u001B[39;00m \u001B[38;5;21;01mpandas\u001B[39;00m\u001B[38;5;21;01m.\u001B[39;00m\u001B[38;5;21;01mcore\u001B[39;00m\u001B[38;5;21;01m.\u001B[39;00m\u001B[38;5;21;01mreshape\u001B[39;00m\u001B[38;5;21;01m.\u001B[39;00m\u001B[38;5;21;01mreshape\u001B[39;00m \u001B[38;5;28;01mimport\u001B[39;00m unstack\n\u001B[0;32m-> 8966\u001B[0m result \u001B[38;5;241m=\u001B[39m \u001B[43munstack\u001B[49m\u001B[43m(\u001B[49m\u001B[38;5;28;43mself\u001B[39;49m\u001B[43m,\u001B[49m\u001B[43m \u001B[49m\u001B[43mlevel\u001B[49m\u001B[43m,\u001B[49m\u001B[43m \u001B[49m\u001B[43mfill_value\u001B[49m\u001B[43m)\u001B[49m\n\u001B[1;32m   8968\u001B[0m \u001B[38;5;28;01mreturn\u001B[39;00m result\u001B[38;5;241m.\u001B[39m__finalize__(\u001B[38;5;28mself\u001B[39m, method\u001B[38;5;241m=\u001B[39m\u001B[38;5;124m\"\u001B[39m\u001B[38;5;124munstack\u001B[39m\u001B[38;5;124m\"\u001B[39m)\n",
      "File \u001B[0;32m~/anaconda3/envs/tft_dfc_env/lib/python3.8/site-packages/pandas/core/reshape/reshape.py:475\u001B[0m, in \u001B[0;36munstack\u001B[0;34m(obj, level, fill_value)\u001B[0m\n\u001B[1;32m    473\u001B[0m \u001B[38;5;28;01mif\u001B[39;00m \u001B[38;5;28misinstance\u001B[39m(obj, DataFrame):\n\u001B[1;32m    474\u001B[0m     \u001B[38;5;28;01mif\u001B[39;00m \u001B[38;5;28misinstance\u001B[39m(obj\u001B[38;5;241m.\u001B[39mindex, MultiIndex):\n\u001B[0;32m--> 475\u001B[0m         \u001B[38;5;28;01mreturn\u001B[39;00m \u001B[43m_unstack_frame\u001B[49m\u001B[43m(\u001B[49m\u001B[43mobj\u001B[49m\u001B[43m,\u001B[49m\u001B[43m \u001B[49m\u001B[43mlevel\u001B[49m\u001B[43m,\u001B[49m\u001B[43m \u001B[49m\u001B[43mfill_value\u001B[49m\u001B[38;5;241;43m=\u001B[39;49m\u001B[43mfill_value\u001B[49m\u001B[43m)\u001B[49m\n\u001B[1;32m    476\u001B[0m     \u001B[38;5;28;01melse\u001B[39;00m:\n\u001B[1;32m    477\u001B[0m         \u001B[38;5;28;01mreturn\u001B[39;00m obj\u001B[38;5;241m.\u001B[39mT\u001B[38;5;241m.\u001B[39mstack(dropna\u001B[38;5;241m=\u001B[39m\u001B[38;5;28;01mFalse\u001B[39;00m)\n",
      "File \u001B[0;32m~/anaconda3/envs/tft_dfc_env/lib/python3.8/site-packages/pandas/core/reshape/reshape.py:498\u001B[0m, in \u001B[0;36m_unstack_frame\u001B[0;34m(obj, level, fill_value)\u001B[0m\n\u001B[1;32m    496\u001B[0m \u001B[38;5;28;01mdef\u001B[39;00m \u001B[38;5;21m_unstack_frame\u001B[39m(obj: DataFrame, level, fill_value\u001B[38;5;241m=\u001B[39m\u001B[38;5;28;01mNone\u001B[39;00m):\n\u001B[1;32m    497\u001B[0m     \u001B[38;5;28;01massert\u001B[39;00m \u001B[38;5;28misinstance\u001B[39m(obj\u001B[38;5;241m.\u001B[39mindex, MultiIndex)  \u001B[38;5;66;03m# checked by caller\u001B[39;00m\n\u001B[0;32m--> 498\u001B[0m     unstacker \u001B[38;5;241m=\u001B[39m \u001B[43m_Unstacker\u001B[49m\u001B[43m(\u001B[49m\u001B[43mobj\u001B[49m\u001B[38;5;241;43m.\u001B[39;49m\u001B[43mindex\u001B[49m\u001B[43m,\u001B[49m\u001B[43m \u001B[49m\u001B[43mlevel\u001B[49m\u001B[38;5;241;43m=\u001B[39;49m\u001B[43mlevel\u001B[49m\u001B[43m,\u001B[49m\u001B[43m \u001B[49m\u001B[43mconstructor\u001B[49m\u001B[38;5;241;43m=\u001B[39;49m\u001B[43mobj\u001B[49m\u001B[38;5;241;43m.\u001B[39;49m\u001B[43m_constructor\u001B[49m\u001B[43m)\u001B[49m\n\u001B[1;32m    500\u001B[0m     \u001B[38;5;28;01mif\u001B[39;00m \u001B[38;5;129;01mnot\u001B[39;00m obj\u001B[38;5;241m.\u001B[39m_can_fast_transpose:\n\u001B[1;32m    501\u001B[0m         mgr \u001B[38;5;241m=\u001B[39m obj\u001B[38;5;241m.\u001B[39m_mgr\u001B[38;5;241m.\u001B[39munstack(unstacker, fill_value\u001B[38;5;241m=\u001B[39mfill_value)\n",
      "File \u001B[0;32m~/anaconda3/envs/tft_dfc_env/lib/python3.8/site-packages/pandas/core/reshape/reshape.py:136\u001B[0m, in \u001B[0;36m_Unstacker.__init__\u001B[0;34m(self, index, level, constructor)\u001B[0m\n\u001B[1;32m    128\u001B[0m \u001B[38;5;28;01mif\u001B[39;00m num_cells \u001B[38;5;241m>\u001B[39m np\u001B[38;5;241m.\u001B[39miinfo(np\u001B[38;5;241m.\u001B[39mint32)\u001B[38;5;241m.\u001B[39mmax:\n\u001B[1;32m    129\u001B[0m     warnings\u001B[38;5;241m.\u001B[39mwarn(\n\u001B[1;32m    130\u001B[0m         \u001B[38;5;124mf\u001B[39m\u001B[38;5;124m\"\u001B[39m\u001B[38;5;124mThe following operation may generate \u001B[39m\u001B[38;5;132;01m{\u001B[39;00mnum_cells\u001B[38;5;132;01m}\u001B[39;00m\u001B[38;5;124m cells \u001B[39m\u001B[38;5;124m\"\u001B[39m\n\u001B[1;32m    131\u001B[0m         \u001B[38;5;124mf\u001B[39m\u001B[38;5;124m\"\u001B[39m\u001B[38;5;124min the resulting pandas object.\u001B[39m\u001B[38;5;124m\"\u001B[39m,\n\u001B[1;32m    132\u001B[0m         PerformanceWarning,\n\u001B[1;32m    133\u001B[0m         stacklevel\u001B[38;5;241m=\u001B[39mfind_stack_level(),\n\u001B[1;32m    134\u001B[0m     )\n\u001B[0;32m--> 136\u001B[0m \u001B[38;5;28;43mself\u001B[39;49m\u001B[38;5;241;43m.\u001B[39;49m\u001B[43m_make_selectors\u001B[49m\u001B[43m(\u001B[49m\u001B[43m)\u001B[49m\n",
      "File \u001B[0;32m~/anaconda3/envs/tft_dfc_env/lib/python3.8/site-packages/pandas/core/reshape/reshape.py:188\u001B[0m, in \u001B[0;36m_Unstacker._make_selectors\u001B[0;34m(self)\u001B[0m\n\u001B[1;32m    185\u001B[0m mask\u001B[38;5;241m.\u001B[39mput(selector, \u001B[38;5;28;01mTrue\u001B[39;00m)\n\u001B[1;32m    187\u001B[0m \u001B[38;5;28;01mif\u001B[39;00m mask\u001B[38;5;241m.\u001B[39msum() \u001B[38;5;241m<\u001B[39m \u001B[38;5;28mlen\u001B[39m(\u001B[38;5;28mself\u001B[39m\u001B[38;5;241m.\u001B[39mindex):\n\u001B[0;32m--> 188\u001B[0m     \u001B[38;5;28;01mraise\u001B[39;00m \u001B[38;5;167;01mValueError\u001B[39;00m(\u001B[38;5;124m\"\u001B[39m\u001B[38;5;124mIndex contains duplicate entries, cannot reshape\u001B[39m\u001B[38;5;124m\"\u001B[39m)\n\u001B[1;32m    190\u001B[0m \u001B[38;5;28mself\u001B[39m\u001B[38;5;241m.\u001B[39mgroup_index \u001B[38;5;241m=\u001B[39m comp_index\n\u001B[1;32m    191\u001B[0m \u001B[38;5;28mself\u001B[39m\u001B[38;5;241m.\u001B[39mmask \u001B[38;5;241m=\u001B[39m mask\n",
      "\u001B[0;31mValueError\u001B[0m: Index contains duplicate entries, cannot reshape"
     ]
    }
   ],
   "source": [
    "stack_data.unstack()\n"
   ],
   "metadata": {
    "collapsed": false,
    "ExecuteTime": {
     "end_time": "2023-07-08T19:08:16.997284906Z",
     "start_time": "2023-07-08T19:08:16.595985266Z"
    }
   }
  },
  {
   "cell_type": "code",
   "execution_count": null,
   "outputs": [],
   "source": [],
   "metadata": {
    "collapsed": false
   }
  },
  {
   "cell_type": "code",
   "execution_count": null,
   "outputs": [],
   "source": [],
   "metadata": {
    "collapsed": false
   }
  },
  {
   "cell_type": "code",
   "execution_count": null,
   "outputs": [],
   "source": [],
   "metadata": {
    "collapsed": false
   }
  },
  {
   "cell_type": "code",
   "execution_count": null,
   "outputs": [],
   "source": [],
   "metadata": {
    "collapsed": false
   }
  },
  {
   "cell_type": "code",
   "execution_count": null,
   "outputs": [],
   "source": [],
   "metadata": {
    "collapsed": false
   }
  },
  {
   "cell_type": "code",
   "execution_count": null,
   "outputs": [],
   "source": [
    "# Convert 'Date' column to datetime type\n",
    "df['Date'] = pd.to_datetime(df['Date'])\n",
    "\n",
    "\n",
    "\n",
    "# Set the frequency to daily and fill missing values with 0\n",
    "df = df.asfreq('D', fill_value=0)"
   ],
   "metadata": {
    "collapsed": false
   }
  },
  {
   "cell_type": "code",
   "execution_count": null,
   "outputs": [],
   "source": [],
   "metadata": {
    "collapsed": false
   }
  },
  {
   "cell_type": "code",
   "execution_count": null,
   "outputs": [],
   "source": [],
   "metadata": {
    "collapsed": false
   }
  },
  {
   "cell_type": "code",
   "execution_count": 16,
   "outputs": [
    {
     "name": "stdout",
     "output_type": "stream",
     "text": [
      "                     Value  Value2\n",
      "Date       Category               \n",
      "2023-07-01 A            10     100\n",
      "2023-07-02 A            20     200\n",
      "2023-07-03 A            15     150\n",
      "2023-07-01 B             5      50\n",
      "2023-07-02 B            10     100\n",
      "2023-07-03 B            12     120\n"
     ]
    }
   ],
   "source": [
    "import pandas as pd\n",
    "\n",
    "# Create a sample DataFrame with multilevel index\n",
    "data1 = {'Date': ['2023-07-01', '2023-07-02', '2023-07-03', '2023-07-01', '2023-07-02', '2023-07-03'],\n",
    "        'Category': ['A', 'A', 'A', 'B', 'B', 'B'],\n",
    "        'Value': [10, 20, 15, 5, 10, 12],\n",
    "          'Value2': [100, 200, 150, 50, 100, 120],   }\n",
    "df = pd.DataFrame(data1)\n",
    "\n",
    "# Convert 'Date' column to datetime type\n",
    "df['Date'] = pd.to_datetime(df['Date'])\n",
    "\n",
    "# Set 'Date' and 'Category' columns as the index\n",
    "df.set_index(['Date', 'Category'], inplace=True)\n",
    "\n",
    "# Set the frequency to daily and fill missing values with 0\n",
    "# df = df.asfreq('D', fill_value=0)\n",
    "\n",
    "print(df)\n"
   ],
   "metadata": {
    "collapsed": false,
    "ExecuteTime": {
     "end_time": "2023-07-08T18:55:24.156317517Z",
     "start_time": "2023-07-08T18:55:24.111224079Z"
    }
   }
  },
  {
   "cell_type": "code",
   "execution_count": 18,
   "outputs": [],
   "source": [
    "df_unstack = df.unstack()"
   ],
   "metadata": {
    "collapsed": false,
    "ExecuteTime": {
     "end_time": "2023-07-08T18:56:50.634657173Z",
     "start_time": "2023-07-08T18:56:50.625450596Z"
    }
   }
  },
  {
   "cell_type": "code",
   "execution_count": 21,
   "outputs": [],
   "source": [
    "df_freq = df_unstack.asfreq(\"d\")"
   ],
   "metadata": {
    "collapsed": false,
    "ExecuteTime": {
     "end_time": "2023-07-08T18:57:50.729207793Z",
     "start_time": "2023-07-08T18:57:50.723460813Z"
    }
   }
  },
  {
   "cell_type": "code",
   "execution_count": 22,
   "outputs": [
    {
     "data": {
      "text/plain": "                     Value  Value2\nDate       Category               \n2023-07-01 A            10     100\n           B             5      50\n2023-07-02 A            20     200\n           B            10     100\n2023-07-03 A            15     150\n           B            12     120",
      "text/html": "<div>\n<style scoped>\n    .dataframe tbody tr th:only-of-type {\n        vertical-align: middle;\n    }\n\n    .dataframe tbody tr th {\n        vertical-align: top;\n    }\n\n    .dataframe thead th {\n        text-align: right;\n    }\n</style>\n<table border=\"1\" class=\"dataframe\">\n  <thead>\n    <tr style=\"text-align: right;\">\n      <th></th>\n      <th></th>\n      <th>Value</th>\n      <th>Value2</th>\n    </tr>\n    <tr>\n      <th>Date</th>\n      <th>Category</th>\n      <th></th>\n      <th></th>\n    </tr>\n  </thead>\n  <tbody>\n    <tr>\n      <th rowspan=\"2\" valign=\"top\">2023-07-01</th>\n      <th>A</th>\n      <td>10</td>\n      <td>100</td>\n    </tr>\n    <tr>\n      <th>B</th>\n      <td>5</td>\n      <td>50</td>\n    </tr>\n    <tr>\n      <th rowspan=\"2\" valign=\"top\">2023-07-02</th>\n      <th>A</th>\n      <td>20</td>\n      <td>200</td>\n    </tr>\n    <tr>\n      <th>B</th>\n      <td>10</td>\n      <td>100</td>\n    </tr>\n    <tr>\n      <th rowspan=\"2\" valign=\"top\">2023-07-03</th>\n      <th>A</th>\n      <td>15</td>\n      <td>150</td>\n    </tr>\n    <tr>\n      <th>B</th>\n      <td>12</td>\n      <td>120</td>\n    </tr>\n  </tbody>\n</table>\n</div>"
     },
     "execution_count": 22,
     "metadata": {},
     "output_type": "execute_result"
    }
   ],
   "source": [
    "df_freq.stack()"
   ],
   "metadata": {
    "collapsed": false,
    "ExecuteTime": {
     "end_time": "2023-07-08T18:58:02.194020177Z",
     "start_time": "2023-07-08T18:58:02.150114701Z"
    }
   }
  },
  {
   "cell_type": "code",
   "execution_count": 10,
   "outputs": [
    {
     "name": "stdout",
     "output_type": "stream",
     "text": [
      "          Value\n",
      "Category       \n",
      "A            10\n",
      "B             5\n"
     ]
    }
   ],
   "source": [
    "print(df.loc[\"2023-07-01\"])"
   ],
   "metadata": {
    "collapsed": false,
    "ExecuteTime": {
     "end_time": "2023-07-08T18:45:34.476402029Z",
     "start_time": "2023-07-08T18:45:34.434085674Z"
    }
   }
  },
  {
   "cell_type": "code",
   "execution_count": 13,
   "outputs": [
    {
     "name": "stdout",
     "output_type": "stream",
     "text": [
      "                     Value\n",
      "Date       Category       \n",
      "2023-07-01 A            10\n",
      "           B             5\n",
      "2023-07-02 A            20\n",
      "           B            10\n",
      "2023-07-03 A            15\n",
      "           B            12\n"
     ]
    }
   ],
   "source": [
    "df = df.unstack().asfreq('d').stack()\n",
    "print (df)"
   ],
   "metadata": {
    "collapsed": false,
    "ExecuteTime": {
     "end_time": "2023-07-08T18:52:39.257549054Z",
     "start_time": "2023-07-08T18:52:39.253213725Z"
    }
   }
  },
  {
   "cell_type": "code",
   "execution_count": null,
   "outputs": [],
   "source": [
    "df"
   ],
   "metadata": {
    "collapsed": false
   }
  }
 ],
 "metadata": {
  "kernelspec": {
   "display_name": "Python 3",
   "language": "python",
   "name": "python3"
  },
  "language_info": {
   "codemirror_mode": {
    "name": "ipython",
    "version": 2
   },
   "file_extension": ".py",
   "mimetype": "text/x-python",
   "name": "python",
   "nbconvert_exporter": "python",
   "pygments_lexer": "ipython2",
   "version": "2.7.6"
  }
 },
 "nbformat": 4,
 "nbformat_minor": 0
}
